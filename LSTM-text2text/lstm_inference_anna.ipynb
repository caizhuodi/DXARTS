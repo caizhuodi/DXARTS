{
 "cells": [
  {
   "cell_type": "markdown",
   "id": "429db8c9-d7f1-4aa5-9410-e9cf5968e62e",
   "metadata": {},
   "source": [
    "## 1 define model & load weight"
   ]
  },
  {
   "cell_type": "code",
   "execution_count": 18,
   "id": "22427244-bf40-4d30-a706-d399c60b5514",
   "metadata": {},
   "outputs": [
    {
     "name": "stdout",
     "output_type": "stream",
     "text": [
      "Total Characters:  1985223\n",
      "Total Vocab:  56\n",
      "Total Patterns:  1985123\n"
     ]
    }
   ],
   "source": [
    "# Load LSTM network and generate text\n",
    "import sys\n",
    "import numpy as np\n",
    "from tensorflow.keras.models import Sequential\n",
    "from tensorflow.keras.layers import Dense\n",
    "from tensorflow.keras.layers import Dropout\n",
    "from tensorflow.keras.layers import LSTM\n",
    "from tensorflow.keras.callbacks import ModelCheckpoint\n",
    "from tensorflow.keras.utils import to_categorical\n",
    "# load ascii text and covert to lowercase\n",
    "filename = \"anna.txt\"\n",
    "raw_text = open(filename, 'r', encoding='utf-8').read()\n",
    "raw_text = raw_text.lower()\n",
    "raw_text = raw_text.replace(\"\\n\", \" \")\n",
    "# create mapping of unique chars to integers, and a reverse mapping\n",
    "chars = sorted(list(set(raw_text)))\n",
    "char_to_int = dict((c, i) for i, c in enumerate(chars))\n",
    "int_to_char = dict((i, c) for i, c in enumerate(chars))\n",
    "# summarize the loaded data\n",
    "n_chars = len(raw_text)\n",
    "n_vocab = len(chars)\n",
    "print(\"Total Characters: \", n_chars)\n",
    "print(\"Total Vocab: \", n_vocab)\n",
    "# prepare the dataset of input to output pairs encoded as integers\n",
    "seq_length = 100\n",
    "dataX = []\n",
    "dataY = []\n",
    "for i in range(0, n_chars - seq_length, 1):\n",
    " seq_in = raw_text[i:i + seq_length]\n",
    " seq_out = raw_text[i + seq_length]\n",
    " dataX.append([char_to_int[char] for char in seq_in])\n",
    " dataY.append(char_to_int[seq_out])\n",
    "n_patterns = len(dataX)\n",
    "print(\"Total Patterns: \", n_patterns)\n",
    "# reshape X to be [samples, time steps, features]\n",
    "X = np.reshape(dataX, (n_patterns, seq_length, 1))\n",
    "# normalize\n",
    "X = X / float(n_vocab)\n",
    "# one hot encode the output variable\n",
    "y = to_categorical(dataY)\n",
    "# define the LSTM model\n",
    "model = Sequential()\n",
    "model.add(LSTM(512, input_shape=(X.shape[1], X.shape[2]), return_sequences=True))\n",
    "model.add(Dropout(0.2))\n",
    "model.add(LSTM(512))\n",
    "model.add(Dropout(0.2))\n",
    "model.add(Dense(y.shape[1], activation='softmax'))\n",
    "model.compile(loss='categorical_crossentropy', optimizer='adam')"
   ]
  },
  {
   "cell_type": "code",
   "execution_count": 2,
   "id": "3d99ed5d-424e-4290-8c48-d182155f7fdc",
   "metadata": {},
   "outputs": [],
   "source": [
    "# load the network weights\n",
    "filename = \"./epoch_new_1_anna/weights-improvement-19-1.2158-bigger.hdf5\"\n",
    "model.load_weights(filename)\n",
    "model.compile(loss='categorical_crossentropy', optimizer='adam')"
   ]
  },
  {
   "cell_type": "markdown",
   "id": "70afe568-3cd5-4274-80af-8d08b95ea75b",
   "metadata": {},
   "source": [
    "## 2 generate"
   ]
  },
  {
   "cell_type": "code",
   "execution_count": 3,
   "id": "93d641e5-7987-430f-9a1d-93f647d3a49c",
   "metadata": {},
   "outputs": [
    {
     "name": "stdout",
     "output_type": "stream",
     "text": [
      "0 7\n"
     ]
    }
   ],
   "source": [
    "print(char_to_int[' '],char_to_int['('])"
   ]
  },
  {
   "cell_type": "code",
   "execution_count": 4,
   "id": "6a298396-b7f3-43f6-9cd3-9dcc59ed8585",
   "metadata": {},
   "outputs": [
    {
     "name": "stdout",
     "output_type": "stream",
     "text": [
      "12\n"
     ]
    }
   ],
   "source": [
    "print(char_to_int['.'])"
   ]
  },
  {
   "cell_type": "code",
   "execution_count": 5,
   "id": "fe2c5620-c78f-45b6-baea-a4aceb19d8e5",
   "metadata": {},
   "outputs": [
    {
     "name": "stdout",
     "output_type": "stream",
     "text": [
      "679979 12\n",
      "Seed:\n",
      "\" . passing in mental review all the instances he knew of divorces (there were plenty of them in the v \"\n"
     ]
    }
   ],
   "source": [
    "# pick a random seed\n",
    "start = np.random.randint(0, len(dataX)-1)\n",
    "pattern = dataX[start]\n",
    "\n",
    "# control the starting character, whitespace or left half-bracket, you can adjust based on your text\n",
    "# while pattern[0] != 0 and pattern[0] != 8:\n",
    "while pattern[0] != 12:\n",
    "    start += 1\n",
    "    pattern = dataX[start]\n",
    "\n",
    "print(start, pattern[0])\n",
    "\n",
    "print(\"Seed:\")\n",
    "print(\"\\\"\", ''.join([int_to_char[value] for value in pattern]), \"\\\"\")"
   ]
  },
  {
   "cell_type": "code",
   "execution_count": 6,
   "id": "91f011de-5093-4692-881a-763bd6ff5844",
   "metadata": {},
   "outputs": [],
   "source": [
    "input = ''.join([int_to_char[value] for value in pattern])\n",
    "input = input.lstrip('.')"
   ]
  },
  {
   "cell_type": "code",
   "execution_count": 7,
   "id": "c184d500-e3f1-4457-b45a-182de0f1d11a",
   "metadata": {},
   "outputs": [
    {
     "name": "stderr",
     "output_type": "stream",
     "text": [
      "2024-01-02 10:40:04.319994: I external/local_xla/xla/stream_executor/cuda/cuda_dnn.cc:454] Loaded cuDNN version 8906\n"
     ]
    },
    {
     "name": "stdout",
     "output_type": "stream",
     "text": [
      "arent of the conversation with the conversation with the conversation with the conversation with the conversation with the conversation with the conversation with the conversation with the conversation with the conversation with the conversation with the conversation with the conversation with the conversation with the conversation with the conversation with the conversation with the conversation with the conversation with the conversation with the conversation with the conversation with the con \n",
      "output_0 ————————————\n",
      "  passing in mental review all the instances he knew of divorces (there were plenty of them in the varent of the conversation with the conversation with the conversation with the conversation with the conversation with the conversation with the conversation with the conversation with the conversation with the conversation with the conversation with the conversation with the conversation with the conversation with the conversation with the conversation with the conversation with the conversation with the conversation with the conversation with the conversation with the conversation with the con\n"
     ]
    }
   ],
   "source": [
    "pattern_0 = pattern.copy()\n",
    "output_0 = input\n",
    "\n",
    "# generate characters\n",
    "for i in range(500):\n",
    "    x = np.reshape(pattern_0, (1, len(pattern_0), 1))\n",
    "    x = x / float(n_vocab)\n",
    "    prediction = model.predict(x, verbose=0)\n",
    "    index = np.argmax(prediction)\n",
    "    result = int_to_char[index]\n",
    "    output_0 += result\n",
    "    seq_in = [int_to_char[value] for value in pattern_0]\n",
    "    sys.stdout.write(result)\n",
    "\n",
    "    # this would change the pattern, thus the following generation task would be based on this cell's output\n",
    "    pattern_0.append(index) \n",
    "    pattern_0 = pattern_0[1:len(pattern_0)]\n",
    "    \n",
    "print(\" \\noutput_0 ————————————\\n\",output_0)"
   ]
  },
  {
   "cell_type": "code",
   "execution_count": 8,
   "id": "5c9aa99f-ce79-4bea-861a-8405a6900012",
   "metadata": {},
   "outputs": [
    {
     "name": "stdout",
     "output_type": "stream",
     "text": [
      "arent of the conversation with the conversation with the conversation and the conversation with the conversation with his c"
     ]
    },
    {
     "name": "stderr",
     "output_type": "stream",
     "text": [
      "/tmp/ipykernel_1659035/1959287553.py:14: RuntimeWarning: divide by zero encountered in log\n",
      "  prediction = np.log(prediction) / temperature\n"
     ]
    },
    {
     "name": "stdout",
     "output_type": "stream",
     "text": [
      "onversation with the same strange smile and the same state of the same state of the conversation with the conversation with the conversation with the conversation with the conversation with the same distress that he was already at the same time the same strange condition of the conversation with the same distress the mose that he was already and a strange face of the convers \n",
      "output_1 ————————————\n",
      "  passing in mental review all the instances he knew of divorces (there were plenty of them in the varent of the conversation with the conversation with the conversation and the conversation with the conversation with his conversation with the same strange smile and the same state of the same state of the conversation with the conversation with the conversation with the conversation with the conversation with the same distress that he was already at the same time the same strange condition of the conversation with the same distress the mose that he was already and a strange face of the convers\n"
     ]
    }
   ],
   "source": [
    "pattern_1 = pattern.copy()\n",
    "output_1 = input\n",
    "\n",
    "# set the temperature, you can adjust this value\n",
    "temperature = 0.1\n",
    "\n",
    "# generate characters\n",
    "for i in range(500):\n",
    "    x = np.reshape(pattern_1, (1, len(pattern_1), 1))\n",
    "    x = x / float(n_vocab)\n",
    "    prediction = model.predict(x, verbose=0)\n",
    "\n",
    "    # Adjust the probabilities with the temperature parameter\n",
    "    prediction = np.log(prediction) / temperature\n",
    "    exp_prediction = np.exp(prediction)\n",
    "    prediction = exp_prediction / np.sum(exp_prediction)\n",
    "\n",
    "    # Sample the next index based on the adjusted probabilities\n",
    "    index = np.random.choice(len(prediction.squeeze()), p=prediction.squeeze())\n",
    "\n",
    "    result = int_to_char[index]\n",
    "    output_1 += result\n",
    "    seq_in = [int_to_char[value] for value in pattern_1]\n",
    "    sys.stdout.write(result)\n",
    "\n",
    "    pattern_1.append(index)\n",
    "    pattern_1 = pattern_1[1:len(pattern_1)]\n",
    "\n",
    "print(\" \\noutput_1 ————————————\\n\",output_1)"
   ]
  },
  {
   "cell_type": "code",
   "execution_count": 9,
   "id": "cc0e1ecd-18cd-4d21-b44b-e48e2cf48dc3",
   "metadata": {},
   "outputs": [
    {
     "name": "stdout",
     "output_type": "stream",
     "text": [
      "alue of the conversation with his s"
     ]
    },
    {
     "name": "stderr",
     "output_type": "stream",
     "text": [
      "/tmp/ipykernel_1659035/3095179688.py:14: RuntimeWarning: divide by zero encountered in log\n",
      "  prediction = np.log(prediction) / temperature\n"
     ]
    },
    {
     "name": "stdout",
     "output_type": "stream",
     "text": [
      "etting of the conversation, and the conversation with his strange and said and still more that he was sitting at the same sight of the same still more and the conversation with the state of the same strange face of the conversation with the same state of the matter of the position of the people and a horrible condition of the same and so seeing the conversation with him to the conversation with his brother and the conversation with the same position of the man  \n",
      "output_2 ————————————\n",
      "  passing in mental review all the instances he knew of divorces (there were plenty of them in the value of the conversation with his setting of the conversation, and the conversation with his strange and said and still more that he was sitting at the same sight of the same still more and the conversation with the state of the same strange face of the conversation with the same state of the matter of the position of the people and a horrible condition of the same and so seeing the conversation with him to the conversation with his brother and the conversation with the same position of the man \n"
     ]
    }
   ],
   "source": [
    "pattern_2 = pattern.copy()\n",
    "output_2 = input\n",
    "\n",
    "# set the temperature, you can adjust this value\n",
    "temperature = 0.2\n",
    "\n",
    "# generate characters\n",
    "for i in range(500):\n",
    "    x = np.reshape(pattern_2, (1, len(pattern_2), 1))\n",
    "    x = x / float(n_vocab)\n",
    "    prediction = model.predict(x, verbose=0)\n",
    "\n",
    "    # Adjust the probabilities with the temperature parameter\n",
    "    prediction = np.log(prediction) / temperature\n",
    "    exp_prediction = np.exp(prediction)\n",
    "    prediction = exp_prediction / np.sum(exp_prediction)\n",
    "\n",
    "    # Sample the next index based on the adjusted probabilities\n",
    "    index = np.random.choice(len(prediction.squeeze()), p=prediction.squeeze())\n",
    "\n",
    "    result = int_to_char[index]\n",
    "    output_2 += result\n",
    "    seq_in = [int_to_char[value] for value in pattern_2]\n",
    "    sys.stdout.write(result)\n",
    "\n",
    "    pattern_2.append(index)\n",
    "    pattern_2 = pattern_2[1:len(pattern_2)]\n",
    "\n",
    "print(\" \\noutput_2 ————————————\\n\",output_2)"
   ]
  },
  {
   "cell_type": "code",
   "execution_count": 10,
   "id": "a0e3402a-c7d0-45b4-b8cd-4070fa03931b",
   "metadata": {},
   "outputs": [
    {
     "name": "stdout",
     "output_type": "stream",
     "text": [
      "ery "
     ]
    },
    {
     "name": "stderr",
     "output_type": "stream",
     "text": [
      "/tmp/ipykernel_1659035/4164628668.py:14: RuntimeWarning: divide by zero encountered in log\n",
      "  prediction = np.log(prediction) / temperature\n"
     ]
    },
    {
     "name": "stdout",
     "output_type": "stream",
     "text": [
      "answer to him and did not know what he had been a hooe of his mother.  \"what a moment i don't think of it.\"  \"yes, yes, i love my sense, and the money with the man who will be the servants of the conversation. and the conversation with the subject of the peasants were a little for the conversation and the state of the conversation, the mose and with the servants of the significance of the consedes of the conversation with the last tcll with a conversation with his strange and so as to help h \n",
      "output_3 ————————————\n",
      "  passing in mental review all the instances he knew of divorces (there were plenty of them in the very answer to him and did not know what he had been a hooe of his mother.  \"what a moment i don't think of it.\"  \"yes, yes, i love my sense, and the money with the man who will be the servants of the conversation. and the conversation with the subject of the peasants were a little for the conversation and the state of the conversation, the mose and with the servants of the significance of the consedes of the conversation with the last tcll with a conversation with his strange and so as to help h\n"
     ]
    }
   ],
   "source": [
    "pattern_3 = pattern.copy()\n",
    "output_3 = input\n",
    "\n",
    "# set the temperature, you can adjust this value\n",
    "temperature = 0.3\n",
    "\n",
    "# generate characters\n",
    "for i in range(500):\n",
    "    x = np.reshape(pattern_3, (1, len(pattern_3), 1))\n",
    "    x = x / float(n_vocab)\n",
    "    prediction = model.predict(x, verbose=0)\n",
    "\n",
    "    # Adjust the probabilities with the temperature parameter\n",
    "    prediction = np.log(prediction) / temperature\n",
    "    exp_prediction = np.exp(prediction)\n",
    "    prediction = exp_prediction / np.sum(exp_prediction)\n",
    "\n",
    "    # Sample the next index based on the adjusted probabilities\n",
    "    index = np.random.choice(len(prediction.squeeze()), p=prediction.squeeze())\n",
    "\n",
    "    result = int_to_char[index]\n",
    "    output_3 += result\n",
    "    seq_in = [int_to_char[value] for value in pattern_3]\n",
    "    sys.stdout.write(result)\n",
    "\n",
    "    pattern_3.append(index)\n",
    "    pattern_3 = pattern_3[1:len(pattern_3)]\n",
    "\n",
    "print(\" \\noutput_3 ————————————\\n\",output_3)"
   ]
  },
  {
   "cell_type": "code",
   "execution_count": 11,
   "id": "55e249ef-9d1d-4050-be48-b67274eb9117",
   "metadata": {},
   "outputs": [
    {
     "name": "stdout",
     "output_type": "stream",
     "text": [
      "aguer of the game already and half,briameulless, and the conversation and the gace of his creature. all the seconds had to be surprised for a divorce.  the acout the table"
     ]
    },
    {
     "name": "stderr",
     "output_type": "stream",
     "text": [
      "/tmp/ipykernel_1659035/4210240102.py:14: RuntimeWarning: divide by zero encountered in log\n",
      "  prediction = np.log(prediction) / temperature\n"
     ]
    },
    {
     "name": "stdout",
     "output_type": "stream",
     "text": [
      " and the servants were continually reading the same of the conditions of serious reminiscence, and was going to the pastiog, and the pinlst- he decedted the sound of the conversation with his comlent like the horses, and the wert relations of her forgetting conversation.  \"he's not a moment, what are you was the rest of the pro \n",
      "output_4 ————————————\n",
      "  passing in mental review all the instances he knew of divorces (there were plenty of them in the vaguer of the game already and half,briameulless, and the conversation and the gace of his creature. all the seconds had to be surprised for a divorce.  the acout the table and the servants were continually reading the same of the conditions of serious reminiscence, and was going to the pastiog, and the pinlst- he decedted the sound of the conversation with his comlent like the horses, and the wert relations of her forgetting conversation.  \"he's not a moment, what are you was the rest of the pro\n"
     ]
    }
   ],
   "source": [
    "pattern_4 = pattern.copy()\n",
    "output_4 = input\n",
    "\n",
    "# set the temperature, you can adjust this value\n",
    "temperature = 0.5\n",
    "\n",
    "# generate characters\n",
    "for i in range(500):\n",
    "    x = np.reshape(pattern_4, (1, len(pattern_4), 1))\n",
    "    x = x / float(n_vocab)\n",
    "    prediction = model.predict(x, verbose=0)\n",
    "\n",
    "    # Adjust the probabilities with the temperature parameter\n",
    "    prediction = np.log(prediction) / temperature\n",
    "    exp_prediction = np.exp(prediction)\n",
    "    prediction = exp_prediction / np.sum(exp_prediction)\n",
    "\n",
    "    # Sample the next index based on the adjusted probabilities\n",
    "    index = np.random.choice(len(prediction.squeeze()), p=prediction.squeeze())\n",
    "\n",
    "    result = int_to_char[index]\n",
    "    output_4 += result\n",
    "    seq_in = [int_to_char[value] for value in pattern_4]\n",
    "    sys.stdout.write(result)\n",
    "\n",
    "    pattern_4.append(index)\n",
    "    pattern_4 = pattern_4[1:len(pattern_4)]\n",
    "\n",
    "print(\" \\noutput_4 ————————————\\n\",output_4)"
   ]
  },
  {
   "cell_type": "code",
   "execution_count": 12,
   "id": "b5ee37e6-d9c0-4fe7-b9b9-f0eb95b791b8",
   "metadata": {},
   "outputs": [
    {
     "name": "stdout",
     "output_type": "stream",
     "text": [
      "atia and his own hands, and ruite difficult"
     ]
    },
    {
     "name": "stderr",
     "output_type": "stream",
     "text": [
      "/tmp/ipykernel_1659035/1365432639.py:14: RuntimeWarning: divide by zero encountered in log\n",
      "  prediction = np.log(prediction) / temperature\n"
     ]
    },
    {
     "name": "stdout",
     "output_type": "stream",
     "text": [
      " that it was always b standing and pleasure, he only said it, and she had no hurband. in the rase gouerness of the dhvorce had freed of the little party, and there was a deceit of getting on a condition of his talini seatcots to the workd, and about the husband that they don't ceas it. something in you, and you moved a considerations, as the ramio of the dress, which one can there any persons more not thinking of all the wheels and conditions of the dea \n",
      "output_5 ————————————\n",
      "  passing in mental review all the instances he knew of divorces (there were plenty of them in the vatia and his own hands, and ruite difficult that it was always b standing and pleasure, he only said it, and she had no hurband. in the rase gouerness of the dhvorce had freed of the little party, and there was a deceit of getting on a condition of his talini seatcots to the workd, and about the husband that they don't ceas it. something in you, and you moved a considerations, as the ramio of the dress, which one can there any persons more not thinking of all the wheels and conditions of the dea\n"
     ]
    }
   ],
   "source": [
    "pattern_5 = pattern.copy()\n",
    "output_5 = input\n",
    "\n",
    "# set the temperature, you can adjust this value\n",
    "temperature = 0.6\n",
    "\n",
    "# generate characters\n",
    "for i in range(500):\n",
    "    x = np.reshape(pattern_5, (1, len(pattern_5), 1))\n",
    "    x = x / float(n_vocab)\n",
    "    prediction = model.predict(x, verbose=0)\n",
    "\n",
    "    # Adjust the probabilities with the temperature parameter\n",
    "    prediction = np.log(prediction) / temperature\n",
    "    exp_prediction = np.exp(prediction)\n",
    "    prediction = exp_prediction / np.sum(exp_prediction)\n",
    "\n",
    "    # Sample the next index based on the adjusted probabilities\n",
    "    index = np.random.choice(len(prediction.squeeze()), p=prediction.squeeze())\n",
    "\n",
    "    result = int_to_char[index]\n",
    "    output_5 += result\n",
    "    seq_in = [int_to_char[value] for value in pattern_5]\n",
    "    sys.stdout.write(result)\n",
    "\n",
    "    pattern_5.append(index)\n",
    "    pattern_5 = pattern_5[1:len(pattern_5)]\n",
    "\n",
    "print(\" \\noutput_5 ————————————\\n\",output_5)"
   ]
  },
  {
   "cell_type": "code",
   "execution_count": 13,
   "id": "d7f22f1d-4d9f-4018-b2a9-13c49689f06e",
   "metadata": {},
   "outputs": [
    {
     "name": "stdout",
     "output_type": "stream",
     "text": [
      "orld, and that for one mind, he could not take no answe"
     ]
    },
    {
     "name": "stderr",
     "output_type": "stream",
     "text": [
      "/tmp/ipykernel_1659035/1221441481.py:14: RuntimeWarning: divide by zero encountered in log\n",
      "  prediction = np.log(prediction) / temperature\n"
     ]
    },
    {
     "name": "stdout",
     "output_type": "stream",
     "text": [
      "r to him. and ceasing natura. the only which he was still that she was jniwened, and he had so hanpened.  \"why do it teer anything for in donly and don't come to her!that?\"  \"what's the waiter of what?\" she said, ruinging his walsz, and sat down again over something a good humor.  \"cetise more, eoged and be as had a fancy, it is gamlonating from she in principal delightful, and with a husband of levin's tio she was qace on the matter. the se \n",
      "output_6 ————————————\n",
      "  passing in mental review all the instances he knew of divorces (there were plenty of them in the vorld, and that for one mind, he could not take no answer to him. and ceasing natura. the only which he was still that she was jniwened, and he had so hanpened.  \"why do it teer anything for in donly and don't come to her!that?\"  \"what's the waiter of what?\" she said, ruinging his walsz, and sat down again over something a good humor.  \"cetise more, eoged and be as had a fancy, it is gamlonating from she in principal delightful, and with a husband of levin's tio she was qace on the matter. the se\n"
     ]
    }
   ],
   "source": [
    "pattern_6 = pattern.copy()\n",
    "output_6 = input\n",
    "\n",
    "# set the temperature, you can adjust this value\n",
    "temperature = 0.7\n",
    "\n",
    "# generate characters\n",
    "for i in range(500):\n",
    "    x = np.reshape(pattern_6, (1, len(pattern_6), 1))\n",
    "    x = x / float(n_vocab)\n",
    "    prediction = model.predict(x, verbose=0)\n",
    "\n",
    "    # Adjust the probabilities with the temperature parameter\n",
    "    prediction = np.log(prediction) / temperature\n",
    "    exp_prediction = np.exp(prediction)\n",
    "    prediction = exp_prediction / np.sum(exp_prediction)\n",
    "\n",
    "    # Sample the next index based on the adjusted probabilities\n",
    "    index = np.random.choice(len(prediction.squeeze()), p=prediction.squeeze())\n",
    "\n",
    "    result = int_to_char[index]\n",
    "    output_6 += result\n",
    "    seq_in = [int_to_char[value] for value in pattern_6]\n",
    "    sys.stdout.write(result)\n",
    "\n",
    "    pattern_6.append(index)\n",
    "    pattern_6 = pattern_6[1:len(pattern_6)]\n",
    "\n",
    "print(\" \\noutput_6 ————————————\\n\",output_6)"
   ]
  },
  {
   "cell_type": "code",
   "execution_count": 14,
   "id": "7cefd95d-51e7-49f6-b15b-dc1187af9e50",
   "metadata": {},
   "outputs": [
    {
     "name": "stdout",
     "output_type": "stream",
     "text": [
      "ery p"
     ]
    },
    {
     "name": "stderr",
     "output_type": "stream",
     "text": [
      "/tmp/ipykernel_1659035/1946610911.py:14: RuntimeWarning: divide by zero encountered in log\n",
      "  prediction = np.log(prediction) / temperature\n"
     ]
    },
    {
     "name": "stdout",
     "output_type": "stream",
     "text": [
      "ublic qmeasant and here. the other was impossible to absorble octti of the pattern, a friend.-he began to koot for the tleets of words, and which was a refestooing man and a carriage so shaling which to coead bll her comallot had been and nice and eiserahing part of the baby. she rai with change in the hagr of his feet. alexey alexandrovitch gripn at long against her standing wiel she advanced at the floor, \"what have i got mott fauer, and sie thrust uhere have been askedp \"  \"what? i am ro \n",
      "output_7 ————————————\n",
      "  passing in mental review all the instances he knew of divorces (there were plenty of them in the very public qmeasant and here. the other was impossible to absorble octti of the pattern, a friend.-he began to koot for the tleets of words, and which was a refestooing man and a carriage so shaling which to coead bll her comallot had been and nice and eiserahing part of the baby. she rai with change in the hagr of his feet. alexey alexandrovitch gripn at long against her standing wiel she advanced at the floor, \"what have i got mott fauer, and sie thrust uhere have been askedp \"  \"what? i am ro\n"
     ]
    }
   ],
   "source": [
    "pattern_7 = pattern.copy()\n",
    "output_7 = input\n",
    "\n",
    "# set the temperature, you can adjust this value\n",
    "temperature = 0.9\n",
    "\n",
    "# generate characters\n",
    "for i in range(500):\n",
    "    x = np.reshape(pattern_7, (1, len(pattern_7), 1))\n",
    "    x = x / float(n_vocab)\n",
    "    prediction = model.predict(x, verbose=0)\n",
    "\n",
    "    # Adjust the probabilities with the temperature parameter\n",
    "    prediction = np.log(prediction) / temperature\n",
    "    exp_prediction = np.exp(prediction)\n",
    "    prediction = exp_prediction / np.sum(exp_prediction)\n",
    "\n",
    "    # Sample the next index based on the adjusted probabilities\n",
    "    index = np.random.choice(len(prediction.squeeze()), p=prediction.squeeze())\n",
    "\n",
    "    result = int_to_char[index]\n",
    "    output_7 += result\n",
    "    seq_in = [int_to_char[value] for value in pattern_7]\n",
    "    sys.stdout.write(result)\n",
    "\n",
    "    pattern_7.append(index)\n",
    "    pattern_7 = pattern_7[1:len(pattern_7)]\n",
    "\n",
    "print(\" \\noutput_7 ————————————\\n\",output_7)"
   ]
  },
  {
   "cell_type": "markdown",
   "id": "a0906a6d-6ffb-40a8-bfb5-e65476703725",
   "metadata": {},
   "source": [
    "## 3 compare\n",
    "\n",
    "Overall speaking, the output_4 seems better."
   ]
  },
  {
   "cell_type": "code",
   "execution_count": 15,
   "id": "d9bc37e0-ef38-400d-a3dd-4e223cf1c4f7",
   "metadata": {},
   "outputs": [
    {
     "name": "stdout",
     "output_type": "stream",
     "text": [
      " \n",
      "input ———————————— \n",
      "\n",
      "  passing in mental review all the instances he knew of divorces (there were plenty of them in the v \n",
      "\n",
      "\n",
      "\n",
      "\n",
      " \n",
      "output_0 ———————————— argmax\n",
      "\n",
      "  passing in mental review all the instances he knew of divorces (there were plenty of them in the varent of the conversation with the conversation with the conversation with the conversation with the conversation with the conversation with the conversation with the conversation with the conversation with the conversation with the conversation with the conversation with the conversation with the conversation with the conversation with the conversation with the conversation with the conversation with the conversation with the conversation with the conversation with the conversation with the con\n",
      " \n",
      "output_1 ———————————— temperature 0.1\n",
      "\n",
      "  passing in mental review all the instances he knew of divorces (there were plenty of them in the varent of the conversation with the conversation with the conversation and the conversation with the conversation with his conversation with the same strange smile and the same state of the same state of the conversation with the conversation with the conversation with the conversation with the conversation with the same distress that he was already at the same time the same strange condition of the conversation with the same distress the mose that he was already and a strange face of the convers\n",
      " \n",
      "output_2 ———————————— temperature 0.2\n",
      "\n",
      "  passing in mental review all the instances he knew of divorces (there were plenty of them in the value of the conversation with his setting of the conversation, and the conversation with his strange and said and still more that he was sitting at the same sight of the same still more and the conversation with the state of the same strange face of the conversation with the same state of the matter of the position of the people and a horrible condition of the same and so seeing the conversation with him to the conversation with his brother and the conversation with the same position of the man \n",
      " \n",
      "output_3 ———————————— temperature 0.3\n",
      "\n",
      "  passing in mental review all the instances he knew of divorces (there were plenty of them in the very answer to him and did not know what he had been a hooe of his mother.  \"what a moment i don't think of it.\"  \"yes, yes, i love my sense, and the money with the man who will be the servants of the conversation. and the conversation with the subject of the peasants were a little for the conversation and the state of the conversation, the mose and with the servants of the significance of the consedes of the conversation with the last tcll with a conversation with his strange and so as to help h\n",
      " \n",
      "output_4 ———————————— temperature 0.5\n",
      "\n",
      "  passing in mental review all the instances he knew of divorces (there were plenty of them in the vaguer of the game already and half,briameulless, and the conversation and the gace of his creature. all the seconds had to be surprised for a divorce.  the acout the table and the servants were continually reading the same of the conditions of serious reminiscence, and was going to the pastiog, and the pinlst- he decedted the sound of the conversation with his comlent like the horses, and the wert relations of her forgetting conversation.  \"he's not a moment, what are you was the rest of the pro\n",
      " \n",
      "output_5 ———————————— temperature 0.6\n",
      "\n",
      "  passing in mental review all the instances he knew of divorces (there were plenty of them in the vatia and his own hands, and ruite difficult that it was always b standing and pleasure, he only said it, and she had no hurband. in the rase gouerness of the dhvorce had freed of the little party, and there was a deceit of getting on a condition of his talini seatcots to the workd, and about the husband that they don't ceas it. something in you, and you moved a considerations, as the ramio of the dress, which one can there any persons more not thinking of all the wheels and conditions of the dea\n",
      " \n",
      "output_6 ———————————— temperature 0.7\n",
      "\n",
      "  passing in mental review all the instances he knew of divorces (there were plenty of them in the vorld, and that for one mind, he could not take no answer to him. and ceasing natura. the only which he was still that she was jniwened, and he had so hanpened.  \"why do it teer anything for in donly and don't come to her!that?\"  \"what's the waiter of what?\" she said, ruinging his walsz, and sat down again over something a good humor.  \"cetise more, eoged and be as had a fancy, it is gamlonating from she in principal delightful, and with a husband of levin's tio she was qace on the matter. the se\n",
      " \n",
      "output_7 ———————————— temperature 0.9\n",
      "\n",
      "  passing in mental review all the instances he knew of divorces (there were plenty of them in the very public qmeasant and here. the other was impossible to absorble octti of the pattern, a friend.-he began to koot for the tleets of words, and which was a refestooing man and a carriage so shaling which to coead bll her comallot had been and nice and eiserahing part of the baby. she rai with change in the hagr of his feet. alexey alexandrovitch gripn at long against her standing wiel she advanced at the floor, \"what have i got mott fauer, and sie thrust uhere have been askedp \"  \"what? i am ro\n"
     ]
    }
   ],
   "source": [
    "print(\" \\ninput ———————————— \\n\\n\",input,\"\\n\\n\\n\\n\")\n",
    "\n",
    "print(\" \\noutput_0 ———————————— argmax\\n\\n\",output_0)\n",
    "print(\" \\noutput_1 ———————————— temperature 0.1\\n\\n\",output_1)\n",
    "print(\" \\noutput_2 ———————————— temperature 0.2\\n\\n\",output_2)\n",
    "print(\" \\noutput_3 ———————————— temperature 0.3\\n\\n\",output_3)\n",
    "print(\" \\noutput_4 ———————————— temperature 0.5\\n\\n\",output_4)\n",
    "print(\" \\noutput_5 ———————————— temperature 0.6\\n\\n\",output_5)\n",
    "print(\" \\noutput_6 ———————————— temperature 0.7\\n\\n\",output_6)\n",
    "print(\" \\noutput_7 ———————————— temperature 0.9\\n\\n\",output_7)"
   ]
  },
  {
   "cell_type": "markdown",
   "id": "678b50fc-7085-405f-8867-cd637a86ab42",
   "metadata": {},
   "source": [
    "## 4 grammar correction & clean up"
   ]
  },
  {
   "cell_type": "code",
   "execution_count": 16,
   "id": "37c02fef-67e8-42a1-ac48-bbc3ca333cd5",
   "metadata": {},
   "outputs": [],
   "source": [
    "import language_tool_python\n",
    "tool = language_tool_python.LanguageToolPublicAPI('en-US')"
   ]
  },
  {
   "cell_type": "code",
   "execution_count": 17,
   "id": "c9acd51a-bd90-4b35-8f9a-6cf209850470",
   "metadata": {},
   "outputs": [
    {
     "name": "stdout",
     "output_type": "stream",
     "text": [
      " Passing in mental review all the instances he knew of divorces (there were plenty of them in the vaguer of the game already and half, briameulless, and the conversation and the game of his creature. All the seconds had to be surprised for a divorce.  The about the table and the servants were continually reading the same of the conditions of serious reminiscence, and was going to the pasting, and the pilot- he decided the sound of the conversation with his comment like the horses, and the were relations of her forgetting conversation.  \"He's not a moment, what are you being the rest of the pro\n"
     ]
    }
   ],
   "source": [
    "text = output_4\n",
    "# matches = tool.check(text)\n",
    "# print(matches)\n",
    "text_grammar_correct = tool.correct(text)\n",
    "print(text_grammar_correct)"
   ]
  },
  {
   "cell_type": "code",
   "execution_count": 19,
   "id": "fe6406ce-845d-4f5f-beaa-dd17f6cfabbb",
   "metadata": {},
   "outputs": [],
   "source": [
    "import spacy\n",
    "import contextualSpellCheck\n",
    "nlp = spacy.load('en_core_web_sm')\n",
    "contextualSpellCheck.add_to_pipe(nlp)"
   ]
  },
  {
   "cell_type": "code",
   "execution_count": 21,
   "id": "b9806bac-be99-4ce3-b700-ec7ad5a5021f",
   "metadata": {},
   "outputs": [
    {
     "name": "stdout",
     "output_type": "stream",
     "text": [
      " Passing in mental review all the instances he knew of his (there were plenty of them in the game of the game already and half, himself, and the conversation and the game of his creature. All the seconds had to be surprised for a divorce.  The about the table and the servants were continually reading the same of the conditions of serious drinking, and was going to the captain, and the pilot- he decided the sound of the conversation with his comment like the horses, and the were relations of her forgetting conversation.  \"He's not a moment, what are you being the rest of the pro\n"
     ]
    }
   ],
   "source": [
    "doc = nlp(text_grammar_correct)\n",
    "text_grammar_correct_1 = doc._.outcome_spellCheck\n",
    "\n",
    "print(text_grammar_correct_1)"
   ]
  }
 ],
 "metadata": {
  "kernelspec": {
   "display_name": "Python 3 (ipykernel)",
   "language": "python",
   "name": "python3"
  },
  "language_info": {
   "codemirror_mode": {
    "name": "ipython",
    "version": 3
   },
   "file_extension": ".py",
   "mimetype": "text/x-python",
   "name": "python",
   "nbconvert_exporter": "python",
   "pygments_lexer": "ipython3",
   "version": "3.11.0rc1"
  }
 },
 "nbformat": 4,
 "nbformat_minor": 5
}
