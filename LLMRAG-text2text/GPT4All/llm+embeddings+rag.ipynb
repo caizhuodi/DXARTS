{
 "cells": [
  {
   "cell_type": "markdown",
   "id": "e0b4b270-4d8f-486b-81fd-280c12d90f1e",
   "metadata": {},
   "source": [
    "# llm + embeddings + rag"
   ]
  },
  {
   "cell_type": "code",
   "execution_count": 1,
   "id": "1a86f40b-4687-4896-a534-a83a16792f25",
   "metadata": {
    "scrolled": true
   },
   "outputs": [
    {
     "name": "stdout",
     "output_type": "stream",
     "text": [
      "Collecting nomic\n",
      "  Downloading nomic-3.4.1.tar.gz (49 kB)\n",
      "\u001b[2K     \u001b[90m━━━━━━━━━━━━━━━━━━━━━━━━━━━━━━━━━━━━━━━━\u001b[0m \u001b[32m49.5/49.5 kB\u001b[0m \u001b[31m2.0 MB/s\u001b[0m eta \u001b[36m0:00:00\u001b[0m\n",
      "  Installing build dependencies ..done\n",
      "\u001b[?25h  Getting requirements to build wheel ... \u001b[?25ldone\n",
      "\u001b[?25h  Preparing metadata (pyproject.toml) ... \u001b[?25ldone\n",
      "\u001b[?25hCollecting click (from nomic)\n",
      "  Downloading click-8.1.8-py3-none-any.whl.metadata (2.3 kB)\n",
      "Collecting jsonlines (from nomic)\n",
      "  Downloading jsonlines-4.0.0-py3-none-any.whl.metadata (1.6 kB)\n",
      "Collecting loguru (from nomic)\n",
      "  Downloading loguru-0.7.3-py3-none-any.whl.metadata (22 kB)\n",
      "Collecting rich (from nomic)\n",
      "  Downloading rich-14.0.0-py3-none-any.whl.metadata (18 kB)\n",
      "Requirement already satisfied: requests in /opt/anaconda3/envs/publicplayground/lib/python3.12/site-packages (from nomic) (2.32.3)\n",
      "Requirement already satisfied: numpy in /opt/anaconda3/envs/publicplayground/lib/python3.12/site-packages (from nomic) (2.0.1)\n",
      "Requirement already satisfied: pandas in /opt/anaconda3/envs/publicplayground/lib/python3.12/site-packages (from nomic) (2.2.2)\n",
      "Collecting pydantic (from nomic)\n",
      "  Downloading pydantic-2.11.3-py3-none-any.whl.metadata (65 kB)\n",
      "\u001b[2K     \u001b[90m━━━━━━━━━━━━━━━━━━━━━━━━━━━━━━━━━━━━━━━━\u001b[0m \u001b[32m65.2/65.2 kB\u001b[0m \u001b[31m1.5 MB/s\u001b[0m eta \u001b[36m0:00:00\u001b[0ma \u001b[36m0:00:01\u001b[0m\n",
      "\u001b[?25hRequirement already satisfied: tqdm in /opt/anaconda3/envs/publicplayground/lib/python3.12/site-packages (from nomic) (4.67.1)\n",
      "Collecting pyarrow (from nomic)\n",
      "  Downloading pyarrow-19.0.1-cp312-cp312-macosx_12_0_arm64.whl.metadata (3.3 kB)\n",
      "Requirement already satisfied: pillow in /opt/anaconda3/envs/publicplayground/lib/python3.12/site-packages (from nomic) (11.0.0)\n",
      "Collecting pyjwt (from nomic)\n",
      "  Downloading PyJWT-2.10.1-py3-none-any.whl.metadata (4.0 kB)\n",
      "Requirement already satisfied: attrs>=19.2.0 in /opt/anaconda3/envs/publicplayground/lib/python3.12/site-packages (from jsonlines->nomic) (23.1.0)\n",
      "Requirement already satisfied: python-dateutil>=2.8.2 in /opt/anaconda3/envs/publicplayground/lib/python3.12/site-packages (from pandas->nomic) (2.9.0.post0)\n",
      "Requirement already satisfied: pytz>=2020.1 in /opt/anaconda3/envs/publicplayground/lib/python3.12/site-packages (from pandas->nomic) (2024.1)\n",
      "Requirement already satisfied: tzdata>=2022.7 in /opt/anaconda3/envs/publicplayground/lib/python3.12/site-packages (from pandas->nomic) (2024.1)\n",
      "Collecting annotated-types>=0.6.0 (from pydantic->nomic)\n",
      "  Downloading annotated_types-0.7.0-py3-none-any.whl.metadata (15 kB)\n",
      "Collecting pydantic-core==2.33.1 (from pydantic->nomic)\n",
      "  Downloading pydantic_core-2.33.1-cp312-cp312-macosx_11_0_arm64.whl.metadata (6.8 kB)\n",
      "Collecting typing-extensions>=4.12.2 (from pydantic->nomic)\n",
      "  Downloading typing_extensions-4.13.2-py3-none-any.whl.metadata (3.0 kB)\n",
      "Collecting typing-inspection>=0.4.0 (from pydantic->nomic)\n",
      "  Downloading typing_inspection-0.4.0-py3-none-any.whl.metadata (2.6 kB)\n",
      "Requirement already satisfied: charset-normalizer<4,>=2 in /opt/anaconda3/envs/publicplayground/lib/python3.12/site-packages (from requests->nomic) (3.3.2)\n",
      "Requirement already satisfied: idna<4,>=2.5 in /opt/anaconda3/envs/publicplayground/lib/python3.12/site-packages (from requests->nomic) (3.7)\n",
      "Requirement already satisfied: urllib3<3,>=1.21.1 in /opt/anaconda3/envs/publicplayground/lib/python3.12/site-packages (from requests->nomic) (2.2.2)\n",
      "Requirement already satisfied: certifi>=2017.4.17 in /opt/anaconda3/envs/publicplayground/lib/python3.12/site-packages (from requests->nomic) (2024.7.4)\n",
      "Collecting markdown-it-py>=2.2.0 (from rich->nomic)\n",
      "  Downloading markdown_it_py-3.0.0-py3-none-any.whl.metadata (6.9 kB)\n",
      "Requirement already satisfied: pygments<3.0.0,>=2.13.0 in /opt/anaconda3/envs/publicplayground/lib/python3.12/site-packages (from rich->nomic) (2.15.1)\n",
      "Collecting mdurl~=0.1 (from markdown-it-py>=2.2.0->rich->nomic)\n",
      "  Downloading mdurl-0.1.2-py3-none-any.whl.metadata (1.6 kB)\n",
      "Requirement already satisfied: six>=1.5 in /opt/anaconda3/envs/publicplayground/lib/python3.12/site-packages (from python-dateutil>=2.8.2->pandas->nomic) (1.16.0)\n",
      "Downloading click-8.1.8-py3-none-any.whl (98 kB)\n",
      "\u001b[2K   \u001b[90m━━━━━━━━━━━━━━━━━━━━━━━━━━━━━━━━━━━━━━━━\u001b[0m \u001b[32m98.2/98.2 kB\u001b[0m \u001b[31m2.0 MB/s\u001b[0m eta \u001b[36m0:00:00\u001b[0ma \u001b[36m0:00:01\u001b[0m\n",
      "Downloading jsonlines-4.0.0-py3-none-any.whl (8.7 kB)\n",
      "Downloading loguru-0.7.3-py3-none-any.whl (61 kB)\n",
      "\u001b[2K   \u001b[90m━━━━━━━━━━━━━━━━━━━━━━━━━━━━━━━━━━━━━━━━\u001b[0m \u001b[32m61.6/61.6 kB\u001b[0m \u001b[31m2.2 MB/s\u001b[0m eta \u001b[36m0:00:00\u001b[0m\n",
      "\u001b[?25hDownloading pyarrow-19.0.1-cp312-cp312-macosx_12_0_arm64.whl (30.7 MB)\n",
      "\u001b[2K   \u001b[90m━━━━━━━━━━━━━━━━━━━━━━━━━━━━━━━━━━━━━━━━\u001b[0m \u001b[32m30.7/30.7 MB\u001b[0m \u001b[31m1.7 MB/s\u001b[0m eta \u001b[36m0:00:00\u001b[0m00:01\u001b[0m00:01\u001b[0m\n",
      "\u001b[?25hDownloading pydantic-2.11.3-py3-none-any.whl (443 kB)\n",
      "\u001b[2K   \u001b[90m━━━━━━━━━━━━━━━━━━━━━━━━━━━━━━━━━━━━━━━━\u001b[0m \u001b[32m443.6/443.6 kB\u001b[0m \u001b[31m1.8 MB/s\u001b[0m eta \u001b[36m0:00:00\u001b[0ma \u001b[36m0:00:01\u001b[0m\n",
      "\u001b[?25hDownloading pydantic_core-2.33.1-cp312-cp312-macosx_11_0_arm64.whl (1.9 MB)\n",
      "\u001b[2K   \u001b[90m━━━━━━━━━━━━━━━━━━━━━━━━━━━━━━━━━━━━━━━━\u001b[0m \u001b[32m1.9/1.9 MB\u001b[0m \u001b[31m1.8 MB/s\u001b[0m eta \u001b[36m0:00:00\u001b[0m00:01\u001b[0m00:01\u001b[0m\n",
      "\u001b[?25hDownloading PyJWT-2.10.1-py3-none-any.whl (22 kB)\n",
      "Downloading rich-14.0.0-py3-none-any.whl (243 kB)\n",
      "\u001b[2K   \u001b[90m━━━━━━━━━━━━━━━━━━━━━━━━━━━━━━━━━━━━━━━━\u001b[0m \u001b[32m243.2/243.2 kB\u001b[0m \u001b[31m1.7 MB/s\u001b[0m eta \u001b[36m0:00:00\u001b[0ma \u001b[36m0:00:01\u001b[0m\n",
      "\u001b[?25hDownloading annotated_types-0.7.0-py3-none-any.whl (13 kB)\n",
      "Downloading markdown_it_py-3.0.0-py3-none-any.whl (87 kB)\n",
      "\u001b[2K   \u001b[90m━━━━━━━━━━━━━━━━━━━━━━━━━━━━━━━━━━━━━━━━\u001b[0m \u001b[32m87.5/87.5 kB\u001b[0m \u001b[31m1.6 MB/s\u001b[0m eta \u001b[36m0:00:00\u001b[0ma \u001b[36m0:00:01\u001b[0m\n",
      "\u001b[?25hDownloading typing_extensions-4.13.2-py3-none-any.whl (45 kB)\n",
      "\u001b[2K   \u001b[90m━━━━━━━━━━━━━━━━━━━━━━━━━━━━━━━━━━━━━━━━\u001b[0m \u001b[32m45.8/45.8 kB\u001b[0m \u001b[31m2.7 MB/s\u001b[0m eta \u001b[36m0:00:00\u001b[0m\n",
      "Downloading typing_inspection-0.4.0-py3-none-any.whl (14 kB)\n",
      "Downloading mdurl-0.1.2-py3-none-any.whl (10.0 kB)\n",
      "Building wheels for collected packages: nomic\n",
      "  Building wheel for nomic (pyproject.toml) ... \u001b[?25ldone\n",
      "\u001b[?25h  Created wheel for nomic: filename=nomic-3.4.1-py3-none-any.whl size=49942 sha256=6d62057b927f0dad75060193b8387307a8eacc58c05013695740f6732105756b\n",
      "  Stored in directory: /Users/zhuodicai/Library/Caches/pip/wheels/4e/e9/8d/109127342e027d910586035b03f72e732e4d95f6a7144db92c\n",
      "Successfully built nomic\n",
      "Installing collected packages: typing-extensions, pyjwt, pyarrow, mdurl, loguru, jsonlines, click, annotated-types, typing-inspection, pydantic-core, markdown-it-py, rich, pydantic, nomic\n",
      "  Attempting uninstall: typing-extensions\n",
      "    Found existing installation: typing_extensions 4.11.0\n",
      "    Uninstalling typing_extensions-4.11.0:\n",
      "      Successfully uninstalled typing_extensions-4.11.0\n",
      "Successfully installed annotated-types-0.7.0 click-8.1.8 jsonlines-4.0.0 loguru-0.7.3 markdown-it-py-3.0.0 mdurl-0.1.2 nomic-3.4.1 pyarrow-19.0.1 pydantic-2.11.3 pydantic-core-2.33.1 pyjwt-2.10.1 rich-14.0.0 typing-extensions-4.13.2 typing-inspection-0.4.0\n"
     ]
    }
   ],
   "source": [
    "!pip install nomic"
   ]
  },
  {
   "cell_type": "code",
   "execution_count": 2,
   "id": "7f815017-6338-4503-9828-d84348fef7c6",
   "metadata": {},
   "outputs": [
    {
     "name": "stdout",
     "output_type": "stream",
     "text": [
      "Collecting gpt4all\n",
      "  Downloading gpt4all-2.8.2-py3-none-macosx_10_15_universal2.whl.metadata (4.8 kB)\n",
      "Requirement already satisfied: requests in /opt/anaconda3/envs/publicplayground/lib/python3.12/site-packages (from gpt4all) (2.32.3)\n",
      "Requirement already satisfied: tqdm in /opt/anaconda3/envs/publicplayground/lib/python3.12/site-packages (from gpt4all) (4.67.1)\n",
      "Requirement already satisfied: charset-normalizer<4,>=2 in /opt/anaconda3/envs/publicplayground/lib/python3.12/site-packages (from requests->gpt4all) (3.3.2)\n",
      "Requirement already satisfied: idna<4,>=2.5 in /opt/anaconda3/envs/publicplayground/lib/python3.12/site-packages (from requests->gpt4all) (3.7)\n",
      "Requirement already satisfied: urllib3<3,>=1.21.1 in /opt/anaconda3/envs/publicplayground/lib/python3.12/site-packages (from requests->gpt4all) (2.2.2)\n",
      "Requirement already satisfied: certifi>=2017.4.17 in /opt/anaconda3/envs/publicplayground/lib/python3.12/site-packages (from requests->gpt4all) (2024.7.4)\n",
      "Downloading gpt4all-2.8.2-py3-none-macosx_10_15_universal2.whl (6.6 MB)\n",
      "\u001b[2K   \u001b[90m━━━━━━━━━━━━━━━━━━━━━━━━━━━━━━━━━━━━━━━━\u001b[0m \u001b[32m6.6/6.6 MB\u001b[0m \u001b[31m1.7 MB/s\u001b[0m eta \u001b[36m0:00:00\u001b[0m00:01\u001b[0m00:01\u001b[0m\n",
      "Installing collected packages: gpt4all\n",
      "Successfully installed gpt4all-2.8.2\n"
     ]
    }
   ],
   "source": [
    "!pip install gpt4all"
   ]
  },
  {
   "cell_type": "markdown",
   "id": "17b44fae-0595-4e88-b363-54e45447f1af",
   "metadata": {},
   "source": [
    "## 1 test the LLM model"
   ]
  },
  {
   "cell_type": "code",
   "execution_count": 41,
   "id": "2892b60e-b699-44a6-ac5d-9addb71b2880",
   "metadata": {},
   "outputs": [
    {
     "name": "stdout",
     "output_type": "stream",
     "text": [
      "Zhuodi Huang, also known as Zhuodi, is a Chinese-American writer and humorist. He was born in 1992 in China and moved to the United States with his family at a young age.\n",
      "\n",
      "Zhuodi gained popularity on social media platforms such as Twitter and TikTok for his humorous takes on cultural differences between East Asia (specifically China) and Western cultures, particularly those of the United States. His witty observations often revolve around food, language, customs, and societal norms that are unique to each culture.\n",
      "\n",
      "His online presence has led him to become a sought-after speaker and writer, with articles published in prominent outlets like The New Yorker, The Atlantic, and Vox. Zhuodi's humor is known for being lighthearted yet insightful, offering readers a fresh perspective on the complexities of cultural exchange.\n",
      "\n",
      "Would you like me to share some examples of his humorous takes or writings?\n"
     ]
    }
   ],
   "source": [
    "from gpt4all import GPT4All\n",
    "model = GPT4All(\"Meta-Llama-3-8B-Instruct.Q4_0.gguf\") # downloads / loads a 4.66GB LLM\n",
    "with model.chat_session():\n",
    "    print(model.generate(\"Who is Zhuodi?\", max_tokens=200))"
   ]
  },
  {
   "cell_type": "markdown",
   "id": "c388281e-c90e-4860-ba4a-c54b371cd28e",
   "metadata": {},
   "source": [
    "## 2 test the LLM model + nomic embeddings + RAG(Retrieval-Augmented Generation)"
   ]
  },
  {
   "cell_type": "code",
   "execution_count": 42,
   "id": "e292eb87-7018-4a10-ab41-2687d5fdb5bb",
   "metadata": {},
   "outputs": [
    {
     "name": "stdout",
     "output_type": "stream",
     "text": [
      "According to the given information, Zhuodi is Zoe's legal name.\n",
      "\n",
      "So, answering your question:\n",
      "\n",
      "Who is Zhuodi?\n",
      "\n",
      "Answer: Zhuodi is Zoe!\n"
     ]
    }
   ],
   "source": [
    "import numpy as np\n",
    "from sklearn.metrics.pairwise import cosine_similarity\n",
    "from nomic import embed\n",
    "from gpt4all import GPT4All\n",
    "\n",
    "model = GPT4All(\"Meta-Llama-3-8B-Instruct.Q4_0.gguf\")\n",
    "\n",
    "data = [\n",
    "    \"Zhuodi is Zoe's legal name.\",\n",
    "    \"Machine learning is a branch of artificial intelligence!\",\n",
    "    \"Sun burns my skin.\"\n",
    "]\n",
    "\n",
    "# nomic creates embeddings\n",
    "output = embed.text(\n",
    "    texts=data,\n",
    "    model='nomic-embed-text-v1.5',\n",
    "    task_type='search_document'\n",
    ")\n",
    "embeddings = np.array(output['embeddings'])\n",
    "\n",
    "# https://docs.nomic.ai/atlas/embeddings-and-retrieval/guides/pdf-rag-with-nomic-embed-multimodal#setting-up-retrieval\n",
    "def retrieve(query: str, k: int = 3) -> list:\n",
    "    \"\"\"Retrieve semantically similar items from data based on embeddings\"\"\"\n",
    "    # retrieval task (semantic search) / classification and clustering tasks\n",
    "    query_output = embed.text(\n",
    "        texts=[query],\n",
    "        model='nomic-embed-text-v1.5',\n",
    "        task_type='search_document'\n",
    "    )\n",
    "    query_embedding = np.array(query_output['embeddings'][0])\n",
    "    \n",
    "    # normalization the query's embedding\n",
    "    query_embedding = query_embedding / np.linalg.norm(query_embedding)\n",
    "    # cosine_similarity\n",
    "    cos_sim = cosine_similarity([query_embedding], embeddings)[0]\n",
    "    # sort by similarity, descending order\n",
    "    idx_sorted_by_cosine_sim = np.argsort(cos_sim)[::-1]\n",
    "    \n",
    "    # return the top k most similar items\n",
    "    sorted_data = [data[i] for i in idx_sorted_by_cosine_sim]\n",
    "    return sorted_data[:k]\n",
    "\n",
    "# generate text / answer with RAG\n",
    "def answer_with_rag(query: str):\n",
    "    # retrieve relevant contexts\n",
    "    relevant_contexts = retrieve(query, k=2)\n",
    "    context_text = \"\\n\".join(relevant_contexts)\n",
    "    \n",
    "    prompt = f\"\"\"\n",
    "    Answer the question according to the information:\n",
    "    Information: {context_text}\n",
    "    Question: {query}\n",
    "    Answer:\n",
    "    \"\"\"\n",
    "    \n",
    "    # generate response\n",
    "    with model.chat_session():\n",
    "        response = model.generate(prompt, max_tokens=200)\n",
    "        return response\n",
    "\n",
    "user_query = \"Who is Zhuodi?\"\n",
    "answer = answer_with_rag(user_query)\n",
    "print(answer)"
   ]
  },
  {
   "cell_type": "code",
   "execution_count": null,
   "id": "369a7b03-af51-4c3c-a035-eea5311440af",
   "metadata": {},
   "outputs": [],
   "source": []
  }
 ],
 "metadata": {
  "kernelspec": {
   "display_name": "Python 3 (ipykernel)",
   "language": "python",
   "name": "python3"
  },
  "language_info": {
   "codemirror_mode": {
    "name": "ipython",
    "version": 3
   },
   "file_extension": ".py",
   "mimetype": "text/x-python",
   "name": "python",
   "nbconvert_exporter": "python",
   "pygments_lexer": "ipython3",
   "version": "3.12.4"
  }
 },
 "nbformat": 4,
 "nbformat_minor": 5
}
